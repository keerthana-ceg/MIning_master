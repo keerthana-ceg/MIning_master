{
 "cells": [
  {
   "cell_type": "code",
   "execution_count": 1,
   "metadata": {},
   "outputs": [],
   "source": [
    "import pandas as pd\n",
    "import numpy as np \n",
    "from collections import OrderedDict\n",
    "pd.set_option('display.max_colwidth', 400)\n",
    "import re\n",
    "rs=10\n",
    "\n",
    "from anytree import Node, RenderTree, PreOrderIter\n",
    "from anytree.exporter import DotExporter, DictExporter\n",
    "\n",
    "from sklearn.cluster import KMeans\n",
    "from sklearn.metrics import silhouette_score, silhouette_samples\n",
    "\n",
    "from tqdm import tqdm\n",
    "import yake"
   ]
  },
  {
   "cell_type": "markdown",
   "metadata": {},
   "source": [
    "# Read Clean Data"
   ]
  },
  {
   "cell_type": "code",
   "execution_count": 15,
   "metadata": {},
   "outputs": [],
   "source": [
    "df = pd.read_csv('../data/individual_news_2020.csv')"
   ]
  },
  {
   "cell_type": "code",
   "execution_count": 16,
   "metadata": {},
   "outputs": [
    {
     "name": "stdout",
     "output_type": "stream",
     "text": [
      "<class 'pandas.core.frame.DataFrame'>\n",
      "RangeIndex: 226757 entries, 0 to 226756\n",
      "Data columns (total 2 columns):\n",
      " #   Column      Non-Null Count   Dtype \n",
      "---  ------      --------------   ----- \n",
      " 0   News        226756 non-null  object\n",
      " 1   clean_news  226565 non-null  object\n",
      "dtypes: object(2)\n",
      "memory usage: 3.5+ MB\n"
     ]
    }
   ],
   "source": [
    "df.info()"
   ]
  },
  {
   "cell_type": "code",
   "execution_count": 17,
   "metadata": {},
   "outputs": [],
   "source": [
    "df.dropna(inplace=True)"
   ]
  },
  {
   "cell_type": "code",
   "execution_count": 18,
   "metadata": {},
   "outputs": [
    {
     "name": "stdout",
     "output_type": "stream",
     "text": [
      "<class 'pandas.core.frame.DataFrame'>\n",
      "Int64Index: 226565 entries, 0 to 226756\n",
      "Data columns (total 2 columns):\n",
      " #   Column      Non-Null Count   Dtype \n",
      "---  ------      --------------   ----- \n",
      " 0   News        226565 non-null  object\n",
      " 1   clean_news  226565 non-null  object\n",
      "dtypes: object(2)\n",
      "memory usage: 5.2+ MB\n"
     ]
    }
   ],
   "source": [
    "df.info()"
   ]
  },
  {
   "cell_type": "code",
   "execution_count": 19,
   "metadata": {},
   "outputs": [],
   "source": [
    "df.reset_index(inplace=True)"
   ]
  },
  {
   "cell_type": "markdown",
   "metadata": {},
   "source": [
    "# Embed Data"
   ]
  },
  {
   "cell_type": "code",
   "execution_count": 20,
   "metadata": {},
   "outputs": [
    {
     "data": {
      "text/html": [
       "<div>\n",
       "<style scoped>\n",
       "    .dataframe tbody tr th:only-of-type {\n",
       "        vertical-align: middle;\n",
       "    }\n",
       "\n",
       "    .dataframe tbody tr th {\n",
       "        vertical-align: top;\n",
       "    }\n",
       "\n",
       "    .dataframe thead th {\n",
       "        text-align: right;\n",
       "    }\n",
       "</style>\n",
       "<table border=\"1\" class=\"dataframe\">\n",
       "  <thead>\n",
       "    <tr style=\"text-align: right;\">\n",
       "      <th></th>\n",
       "      <th>index</th>\n",
       "      <th>News</th>\n",
       "      <th>clean_news</th>\n",
       "    </tr>\n",
       "  </thead>\n",
       "  <tbody>\n",
       "    <tr>\n",
       "      <th>0</th>\n",
       "      <td>0</td>\n",
       "      <td>Shivin Narang injures his hand on the set of his show</td>\n",
       "      <td>shivin narang injures his hand the set his show</td>\n",
       "    </tr>\n",
       "    <tr>\n",
       "      <th>1</th>\n",
       "      <td>1</td>\n",
       "      <td>'Allergy cases on the rise in Bengaluru</td>\n",
       "      <td>'allergy cases the rise bengaluru</td>\n",
       "    </tr>\n",
       "    <tr>\n",
       "      <th>2</th>\n",
       "      <td>2</td>\n",
       "      <td>'A grand Hanukkah celebration held in the city</td>\n",
       "      <td>grand hanukkah celebration held the city</td>\n",
       "    </tr>\n",
       "    <tr>\n",
       "      <th>3</th>\n",
       "      <td>3</td>\n",
       "      <td>'I respect my competitors</td>\n",
       "      <td>respect competitors</td>\n",
       "    </tr>\n",
       "    <tr>\n",
       "      <th>4</th>\n",
       "      <td>4</td>\n",
       "      <td>because they bring out the best in me: Yash</td>\n",
       "      <td>because they bring out the best me: yash</td>\n",
       "    </tr>\n",
       "  </tbody>\n",
       "</table>\n",
       "</div>"
      ],
      "text/plain": [
       "   index                                                   News  \\\n",
       "0      0  Shivin Narang injures his hand on the set of his show   \n",
       "1      1                'Allergy cases on the rise in Bengaluru   \n",
       "2      2         'A grand Hanukkah celebration held in the city   \n",
       "3      3                              'I respect my competitors   \n",
       "4      4            because they bring out the best in me: Yash   \n",
       "\n",
       "                                        clean_news  \n",
       "0  shivin narang injures his hand the set his show  \n",
       "1                'allergy cases the rise bengaluru  \n",
       "2         grand hanukkah celebration held the city  \n",
       "3                              respect competitors  \n",
       "4         because they bring out the best me: yash  "
      ]
     },
     "execution_count": 20,
     "metadata": {},
     "output_type": "execute_result"
    }
   ],
   "source": [
    "df.head()"
   ]
  },
  {
   "cell_type": "code",
   "execution_count": 21,
   "metadata": {},
   "outputs": [
    {
     "data": {
      "text/plain": [
       "218063                       \"'bihar shows improvement child health'\"\n",
       "121893    'kanpur: revenue department probes land grabbed vikas dubey\n",
       "199497                                               robbed right too\n",
       "105957                     'case surge prompts three-day shop closure\n",
       "197688                             'cheats duped people small amounts\n",
       "Name: clean_news, dtype: object"
      ]
     },
     "execution_count": 21,
     "metadata": {},
     "output_type": "execute_result"
    }
   ],
   "source": [
    "df['clean_news'].sample(5)"
   ]
  },
  {
   "cell_type": "code",
   "execution_count": 22,
   "metadata": {},
   "outputs": [],
   "source": [
    "data = df.sample(10000)"
   ]
  },
  {
   "cell_type": "code",
   "execution_count": 23,
   "metadata": {},
   "outputs": [
    {
     "data": {
      "text/plain": [
       "(10000, 3)"
      ]
     },
     "execution_count": 23,
     "metadata": {},
     "output_type": "execute_result"
    }
   ],
   "source": [
    "data.shape"
   ]
  },
  {
   "cell_type": "code",
   "execution_count": 24,
   "metadata": {},
   "outputs": [
    {
     "data": {
      "text/html": [
       "<div>\n",
       "<style scoped>\n",
       "    .dataframe tbody tr th:only-of-type {\n",
       "        vertical-align: middle;\n",
       "    }\n",
       "\n",
       "    .dataframe tbody tr th {\n",
       "        vertical-align: top;\n",
       "    }\n",
       "\n",
       "    .dataframe thead th {\n",
       "        text-align: right;\n",
       "    }\n",
       "</style>\n",
       "<table border=\"1\" class=\"dataframe\">\n",
       "  <thead>\n",
       "    <tr style=\"text-align: right;\">\n",
       "      <th></th>\n",
       "      <th>index</th>\n",
       "      <th>News</th>\n",
       "      <th>clean_news</th>\n",
       "    </tr>\n",
       "  </thead>\n",
       "  <tbody>\n",
       "    <tr>\n",
       "      <th>111000</th>\n",
       "      <td>111114</td>\n",
       "      <td>'Chandigarh in favour of flyover on Sector 29-31 rotary</td>\n",
       "      <td>'chandigarh favour flyover sector 29-31 rotary</td>\n",
       "    </tr>\n",
       "    <tr>\n",
       "      <th>192466</th>\n",
       "      <td>192631</td>\n",
       "      <td>roads dry</td>\n",
       "      <td>roads dry</td>\n",
       "    </tr>\n",
       "    <tr>\n",
       "      <th>157568</th>\n",
       "      <td>157706</td>\n",
       "      <td>'Prepare anganwadi centres as pre-primary schools: Andhra Pradesh CM</td>\n",
       "      <td>'prepare anganwadi centres pre-primary schools: andhra pradesh</td>\n",
       "    </tr>\n",
       "    <tr>\n",
       "      <th>210690</th>\n",
       "      <td>210869</td>\n",
       "      <td>'Raga Blues: What’s missing this Margazhi season?</td>\n",
       "      <td>'raga blues: what’s missing this margazhi season?</td>\n",
       "    </tr>\n",
       "    <tr>\n",
       "      <th>96714</th>\n",
       "      <td>96820</td>\n",
       "      <td>kin not convinced</td>\n",
       "      <td>kin not convinced</td>\n",
       "    </tr>\n",
       "  </tbody>\n",
       "</table>\n",
       "</div>"
      ],
      "text/plain": [
       "         index  \\\n",
       "111000  111114   \n",
       "192466  192631   \n",
       "157568  157706   \n",
       "210690  210869   \n",
       "96714    96820   \n",
       "\n",
       "                                                                         News  \\\n",
       "111000                'Chandigarh in favour of flyover on Sector 29-31 rotary   \n",
       "192466                                                              roads dry   \n",
       "157568   'Prepare anganwadi centres as pre-primary schools: Andhra Pradesh CM   \n",
       "210690                      'Raga Blues: What’s missing this Margazhi season?   \n",
       "96714                                                       kin not convinced   \n",
       "\n",
       "                                                            clean_news  \n",
       "111000                  'chandigarh favour flyover sector 29-31 rotary  \n",
       "192466                                                       roads dry  \n",
       "157568  'prepare anganwadi centres pre-primary schools: andhra pradesh  \n",
       "210690               'raga blues: what’s missing this margazhi season?  \n",
       "96714                                                kin not convinced  "
      ]
     },
     "execution_count": 24,
     "metadata": {},
     "output_type": "execute_result"
    }
   ],
   "source": [
    "data.sample(5)"
   ]
  },
  {
   "cell_type": "code",
   "execution_count": 25,
   "metadata": {},
   "outputs": [],
   "source": [
    "data.reset_index(inplace=True)"
   ]
  },
  {
   "cell_type": "code",
   "execution_count": 26,
   "metadata": {},
   "outputs": [],
   "source": [
    "data.to_csv('../data/news_sample_10000.csv', index=False)"
   ]
  },
  {
   "cell_type": "markdown",
   "metadata": {},
   "source": [
    "# BOW"
   ]
  },
  {
   "cell_type": "code",
   "execution_count": 31,
   "metadata": {},
   "outputs": [],
   "source": [
    "from sklearn.feature_extraction.text import CountVectorizer, TfidfVectorizer\n",
    "def count_vect(field,train_data):\n",
    "    cv = CountVectorizer(min_df=5, ngram_range=(1,2), max_features=1000)\n",
    "    count_vect = cv.fit_transform(train_data[field].values)\n",
    "    \n",
    "    train_feature_set=cv.transform(train_data[field].values)\n",
    "    \n",
    "    return train_feature_set, cv, count_vect"
   ]
  },
  {
   "cell_type": "code",
   "execution_count": 32,
   "metadata": {},
   "outputs": [],
   "source": [
    "X_train_cov, vec1, transformer1 = count_vect('clean_news',data)"
   ]
  },
  {
   "cell_type": "code",
   "execution_count": 33,
   "metadata": {},
   "outputs": [
    {
     "data": {
      "text/plain": [
       "(10000, 1000)"
      ]
     },
     "execution_count": 33,
     "metadata": {},
     "output_type": "execute_result"
    }
   ],
   "source": [
    "X_train_cov.shape"
   ]
  },
  {
   "cell_type": "code",
   "execution_count": 34,
   "metadata": {},
   "outputs": [],
   "source": [
    "bow = X_train_cov.toarray()"
   ]
  },
  {
   "cell_type": "markdown",
   "metadata": {},
   "source": [
    "# TFIDF"
   ]
  },
  {
   "cell_type": "code",
   "execution_count": 35,
   "metadata": {},
   "outputs": [],
   "source": [
    "def tfidf_vect(field, train_data):\n",
    "    tfidf_vectorizer=TfidfVectorizer(min_df=5, ngram_range=(1,2), max_features=1000)\n",
    "    tf_idf = tfidf_vectorizer.fit_transform(train_data[field].values)\n",
    "        \n",
    "    train_feature_set=tfidf_vectorizer.transform(train_data[field].values)\n",
    "        \n",
    "    return train_feature_set,tfidf_vectorizer, tf_idf"
   ]
  },
  {
   "cell_type": "code",
   "execution_count": 36,
   "metadata": {},
   "outputs": [],
   "source": [
    "X_train_tf, vec2, transformer = tfidf_vect('clean_news',data)"
   ]
  },
  {
   "cell_type": "code",
   "execution_count": 37,
   "metadata": {},
   "outputs": [
    {
     "data": {
      "text/plain": [
       "(10000, 1000)"
      ]
     },
     "execution_count": 37,
     "metadata": {},
     "output_type": "execute_result"
    }
   ],
   "source": [
    "X_train_tf.shape"
   ]
  },
  {
   "cell_type": "code",
   "execution_count": 38,
   "metadata": {},
   "outputs": [],
   "source": [
    "tfidf = X_train_tf.toarray()"
   ]
  },
  {
   "cell_type": "markdown",
   "metadata": {},
   "source": [
    "# Sentence Transformers"
   ]
  },
  {
   "cell_type": "code",
   "execution_count": 27,
   "metadata": {},
   "outputs": [],
   "source": [
    "from sentence_transformers import SentenceTransformer\n",
    "t = SentenceTransformer('/Users/keerthana.s/projects/common/transformers/roberta-base-nli-stsb-mean-tokens')"
   ]
  },
  {
   "cell_type": "code",
   "execution_count": 28,
   "metadata": {},
   "outputs": [
    {
     "data": {
      "application/vnd.jupyter.widget-view+json": {
       "model_id": "c08143b9899c4f9f9cce64c1403586e3",
       "version_major": 2,
       "version_minor": 0
      },
      "text/plain": [
       "HBox(children=(FloatProgress(value=0.0, description='Batches', max=20.0, style=ProgressStyle(description_width…"
      ]
     },
     "metadata": {},
     "output_type": "display_data"
    },
    {
     "name": "stdout",
     "output_type": "stream",
     "text": [
      "\n"
     ]
    }
   ],
   "source": [
    "embeddings = t.encode(data['clean_news'].values, show_progress_bar=True, num_workers=4, batch_size=500)"
   ]
  },
  {
   "cell_type": "code",
   "execution_count": 39,
   "metadata": {},
   "outputs": [],
   "source": [
    "features = np.concatenate((bow, tfidf, embeddings),axis=1)"
   ]
  },
  {
   "cell_type": "code",
   "execution_count": 40,
   "metadata": {},
   "outputs": [
    {
     "data": {
      "text/plain": [
       "(10000, 2768)"
      ]
     },
     "execution_count": 40,
     "metadata": {},
     "output_type": "execute_result"
    }
   ],
   "source": [
    "features.shape"
   ]
  },
  {
   "cell_type": "markdown",
   "metadata": {},
   "source": [
    "# Scaling"
   ]
  },
  {
   "cell_type": "code",
   "execution_count": 41,
   "metadata": {},
   "outputs": [],
   "source": [
    "from sklearn.preprocessing import StandardScaler\n",
    "def get_normalised_data(data):\n",
    "    scaler = StandardScaler(with_mean=False)\n",
    "    return scaler.fit_transform(data)"
   ]
  },
  {
   "cell_type": "code",
   "execution_count": 43,
   "metadata": {},
   "outputs": [],
   "source": [
    "scaled_data = get_normalised_data(features)"
   ]
  },
  {
   "cell_type": "code",
   "execution_count": 44,
   "metadata": {},
   "outputs": [
    {
     "data": {
      "text/plain": [
       "(10000, 2768)"
      ]
     },
     "execution_count": 44,
     "metadata": {},
     "output_type": "execute_result"
    }
   ],
   "source": [
    "scaled_data.shape"
   ]
  },
  {
   "cell_type": "markdown",
   "metadata": {},
   "source": [
    "# Dimenstionality reduction"
   ]
  },
  {
   "cell_type": "code",
   "execution_count": 45,
   "metadata": {},
   "outputs": [],
   "source": [
    "import umap.umap_ as umap\n",
    "d = umap.UMAP(random_state=rs, min_dist=0.1, n_neighbors=15, n_components=500).fit(scaled_data)"
   ]
  },
  {
   "cell_type": "code",
   "execution_count": 46,
   "metadata": {},
   "outputs": [],
   "source": [
    "embedding_df = pd.DataFrame(d.embedding_)"
   ]
  },
  {
   "cell_type": "code",
   "execution_count": 47,
   "metadata": {},
   "outputs": [
    {
     "data": {
      "text/plain": [
       "(10000, 500)"
      ]
     },
     "execution_count": 47,
     "metadata": {},
     "output_type": "execute_result"
    }
   ],
   "source": [
    "embedding_df.shape"
   ]
  },
  {
   "cell_type": "code",
   "execution_count": 53,
   "metadata": {},
   "outputs": [
    {
     "data": {
      "text/html": [
       "<div>\n",
       "<style scoped>\n",
       "    .dataframe tbody tr th:only-of-type {\n",
       "        vertical-align: middle;\n",
       "    }\n",
       "\n",
       "    .dataframe tbody tr th {\n",
       "        vertical-align: top;\n",
       "    }\n",
       "\n",
       "    .dataframe thead th {\n",
       "        text-align: right;\n",
       "    }\n",
       "</style>\n",
       "<table border=\"1\" class=\"dataframe\">\n",
       "  <thead>\n",
       "    <tr style=\"text-align: right;\">\n",
       "      <th></th>\n",
       "      <th>0</th>\n",
       "      <th>1</th>\n",
       "      <th>2</th>\n",
       "      <th>3</th>\n",
       "      <th>4</th>\n",
       "      <th>5</th>\n",
       "      <th>6</th>\n",
       "      <th>7</th>\n",
       "      <th>8</th>\n",
       "      <th>9</th>\n",
       "      <th>...</th>\n",
       "      <th>490</th>\n",
       "      <th>491</th>\n",
       "      <th>492</th>\n",
       "      <th>493</th>\n",
       "      <th>494</th>\n",
       "      <th>495</th>\n",
       "      <th>496</th>\n",
       "      <th>497</th>\n",
       "      <th>498</th>\n",
       "      <th>499</th>\n",
       "    </tr>\n",
       "  </thead>\n",
       "  <tbody>\n",
       "    <tr>\n",
       "      <th>0</th>\n",
       "      <td>9.967623</td>\n",
       "      <td>9.562590</td>\n",
       "      <td>9.891655</td>\n",
       "      <td>9.934966</td>\n",
       "      <td>9.858666</td>\n",
       "      <td>9.870971</td>\n",
       "      <td>9.335780</td>\n",
       "      <td>9.880396</td>\n",
       "      <td>9.766960</td>\n",
       "      <td>9.126382</td>\n",
       "      <td>...</td>\n",
       "      <td>5.258048</td>\n",
       "      <td>3.887737</td>\n",
       "      <td>7.387920</td>\n",
       "      <td>6.239135</td>\n",
       "      <td>3.592102</td>\n",
       "      <td>4.608730</td>\n",
       "      <td>4.412725</td>\n",
       "      <td>3.605367</td>\n",
       "      <td>3.166441</td>\n",
       "      <td>6.710532</td>\n",
       "    </tr>\n",
       "    <tr>\n",
       "      <th>1</th>\n",
       "      <td>9.960107</td>\n",
       "      <td>9.632978</td>\n",
       "      <td>9.879575</td>\n",
       "      <td>9.920382</td>\n",
       "      <td>9.865302</td>\n",
       "      <td>9.777955</td>\n",
       "      <td>9.549959</td>\n",
       "      <td>9.963574</td>\n",
       "      <td>9.764003</td>\n",
       "      <td>9.117813</td>\n",
       "      <td>...</td>\n",
       "      <td>5.293014</td>\n",
       "      <td>3.880162</td>\n",
       "      <td>7.345045</td>\n",
       "      <td>6.250390</td>\n",
       "      <td>3.578063</td>\n",
       "      <td>4.648400</td>\n",
       "      <td>4.329896</td>\n",
       "      <td>3.655612</td>\n",
       "      <td>3.170959</td>\n",
       "      <td>6.692613</td>\n",
       "    </tr>\n",
       "    <tr>\n",
       "      <th>2</th>\n",
       "      <td>9.965224</td>\n",
       "      <td>9.586465</td>\n",
       "      <td>9.901536</td>\n",
       "      <td>9.956074</td>\n",
       "      <td>9.860868</td>\n",
       "      <td>9.819626</td>\n",
       "      <td>9.237768</td>\n",
       "      <td>9.844108</td>\n",
       "      <td>9.769893</td>\n",
       "      <td>9.151678</td>\n",
       "      <td>...</td>\n",
       "      <td>5.271272</td>\n",
       "      <td>3.927061</td>\n",
       "      <td>7.362682</td>\n",
       "      <td>6.233048</td>\n",
       "      <td>3.630614</td>\n",
       "      <td>4.637338</td>\n",
       "      <td>4.333327</td>\n",
       "      <td>3.594735</td>\n",
       "      <td>3.139993</td>\n",
       "      <td>6.703682</td>\n",
       "    </tr>\n",
       "    <tr>\n",
       "      <th>3</th>\n",
       "      <td>9.953863</td>\n",
       "      <td>9.604853</td>\n",
       "      <td>9.891928</td>\n",
       "      <td>9.885715</td>\n",
       "      <td>9.866065</td>\n",
       "      <td>9.880277</td>\n",
       "      <td>9.356936</td>\n",
       "      <td>9.914603</td>\n",
       "      <td>9.903923</td>\n",
       "      <td>9.121755</td>\n",
       "      <td>...</td>\n",
       "      <td>5.267444</td>\n",
       "      <td>3.855801</td>\n",
       "      <td>7.397842</td>\n",
       "      <td>6.242770</td>\n",
       "      <td>3.586447</td>\n",
       "      <td>4.633599</td>\n",
       "      <td>4.421291</td>\n",
       "      <td>3.657853</td>\n",
       "      <td>3.189579</td>\n",
       "      <td>6.725579</td>\n",
       "    </tr>\n",
       "    <tr>\n",
       "      <th>4</th>\n",
       "      <td>9.964613</td>\n",
       "      <td>9.583738</td>\n",
       "      <td>9.871429</td>\n",
       "      <td>9.936750</td>\n",
       "      <td>9.831121</td>\n",
       "      <td>9.872887</td>\n",
       "      <td>9.395439</td>\n",
       "      <td>9.851462</td>\n",
       "      <td>9.919547</td>\n",
       "      <td>9.153717</td>\n",
       "      <td>...</td>\n",
       "      <td>5.276075</td>\n",
       "      <td>3.864719</td>\n",
       "      <td>7.387460</td>\n",
       "      <td>6.274598</td>\n",
       "      <td>3.547915</td>\n",
       "      <td>4.542058</td>\n",
       "      <td>4.387795</td>\n",
       "      <td>3.560054</td>\n",
       "      <td>3.140079</td>\n",
       "      <td>6.727359</td>\n",
       "    </tr>\n",
       "  </tbody>\n",
       "</table>\n",
       "<p>5 rows × 500 columns</p>\n",
       "</div>"
      ],
      "text/plain": [
       "        0         1         2         3         4         5         6    \\\n",
       "0  9.967623  9.562590  9.891655  9.934966  9.858666  9.870971  9.335780   \n",
       "1  9.960107  9.632978  9.879575  9.920382  9.865302  9.777955  9.549959   \n",
       "2  9.965224  9.586465  9.901536  9.956074  9.860868  9.819626  9.237768   \n",
       "3  9.953863  9.604853  9.891928  9.885715  9.866065  9.880277  9.356936   \n",
       "4  9.964613  9.583738  9.871429  9.936750  9.831121  9.872887  9.395439   \n",
       "\n",
       "        7         8         9    ...       490       491       492       493  \\\n",
       "0  9.880396  9.766960  9.126382  ...  5.258048  3.887737  7.387920  6.239135   \n",
       "1  9.963574  9.764003  9.117813  ...  5.293014  3.880162  7.345045  6.250390   \n",
       "2  9.844108  9.769893  9.151678  ...  5.271272  3.927061  7.362682  6.233048   \n",
       "3  9.914603  9.903923  9.121755  ...  5.267444  3.855801  7.397842  6.242770   \n",
       "4  9.851462  9.919547  9.153717  ...  5.276075  3.864719  7.387460  6.274598   \n",
       "\n",
       "        494       495       496       497       498       499  \n",
       "0  3.592102  4.608730  4.412725  3.605367  3.166441  6.710532  \n",
       "1  3.578063  4.648400  4.329896  3.655612  3.170959  6.692613  \n",
       "2  3.630614  4.637338  4.333327  3.594735  3.139993  6.703682  \n",
       "3  3.586447  4.633599  4.421291  3.657853  3.189579  6.725579  \n",
       "4  3.547915  4.542058  4.387795  3.560054  3.140079  6.727359  \n",
       "\n",
       "[5 rows x 500 columns]"
      ]
     },
     "execution_count": 53,
     "metadata": {},
     "output_type": "execute_result"
    }
   ],
   "source": [
    "embedding_df.head()"
   ]
  },
  {
   "cell_type": "code",
   "execution_count": 54,
   "metadata": {},
   "outputs": [],
   "source": [
    "embedding_df.to_csv('../data/transformed_data_10000.csv', index=False)"
   ]
  }
 ],
 "metadata": {
  "kernelspec": {
   "display_name": "Python 3",
   "language": "python",
   "name": "python3"
  },
  "language_info": {
   "codemirror_mode": {
    "name": "ipython",
    "version": 3
   },
   "file_extension": ".py",
   "mimetype": "text/x-python",
   "name": "python",
   "nbconvert_exporter": "python",
   "pygments_lexer": "ipython3",
   "version": "3.8.5"
  }
 },
 "nbformat": 4,
 "nbformat_minor": 5
}
