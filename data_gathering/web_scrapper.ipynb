{
 "cells": [
  {
   "cell_type": "code",
   "execution_count": 42,
   "metadata": {},
   "outputs": [],
   "source": [
    "import requests\n",
    "import regex as re\n",
    "import pandas as pd\n",
    "from tqdm import tqdm\n",
    "\n",
    "from wordcloud import WordCloud\n",
    "import matplotlib.pyplot as plt\n",
    "import re\n",
    "pd.set_option('display.max_colwidth', None)"
   ]
  },
  {
   "cell_type": "markdown",
   "metadata": {},
   "source": [
    "# Scraping Times of India 2020 News Data"
   ]
  },
  {
   "cell_type": "code",
   "execution_count": 56,
   "metadata": {},
   "outputs": [],
   "source": [
    "from bs4 import BeautifulSoup\n",
    "def get_news(url):\n",
    "    \n",
    "    global df\n",
    "    \n",
    "    page_request = requests.get(url)\n",
    "    data = page_request.text\n",
    "    soup = BeautifulSoup(data,\"html.parser\")\n",
    "    \n",
    "    soup.a.encode(\"ascii\")\n",
    "    headlines_list = soup.find_all('a',{'href': re.compile(\"(http://timesofindia.indiatimes.com/)\")})\n",
    "    \n",
    "    # get news headlines \n",
    "    result = []\n",
    "    for i in headlines_list:\n",
    "        t = str(i.renderContents(), 'utf-8')\n",
    "        result.append(t)\n",
    "    \n",
    "    # remove duplicates\n",
    "    text = list(dict.fromkeys(result))\n",
    "#     print(len(result), len(text))\n",
    "    \n",
    "    # get date \n",
    "    date = soup.find_all('b')[0].text\n",
    "    temp = {'Date':date, 'News':text}\n",
    "    df = df.append(temp, ignore_index=True)"
   ]
  },
  {
   "cell_type": "markdown",
   "metadata": {},
   "source": [
    "# Update TOI page's URL dynamically to traverse pages"
   ]
  },
  {
   "cell_type": "code",
   "execution_count": 44,
   "metadata": {},
   "outputs": [],
   "source": [
    "def scrap_TimesOfIndia(START_TIME, NO_OF_DAYS_MONTH):\n",
    "    \n",
    "    for month_days in tqdm(NO_OF_DAYS_MONTH):\n",
    "        DATE = 0\n",
    "        for i in range(month_days):\n",
    "            DATE = DATE+1\n",
    "            START_TIME = START_TIME+1\n",
    "            url = \"https://timesofindia.indiatimes.com/2020/\"+str(i)+\"/\"+str(DATE)+\"/archivelist/year-2020,month-1,starttime-\"+str(START_TIME)+\".cms\"\n",
    "            print(DATE, START_TIME)\n",
    "            try:\n",
    "                get_news(url)\n",
    "            except e:\n",
    "                print(\"no such page\", url)\n",
    "                print(e)\n"
   ]
  },
  {
   "cell_type": "markdown",
   "metadata": {},
   "source": [
    "# Logic to get No.of.days in a month in 2020 for URL Updation"
   ]
  },
  {
   "cell_type": "code",
   "execution_count": 45,
   "metadata": {},
   "outputs": [],
   "source": [
    "def get_num_days_month(year):\n",
    "    \n",
    "    result = []\n",
    "    for month in range(1,13):      \n",
    "        if(month == 1 or month == 3 or month == 5 or month == 7 or month == 8 or month == 10 or month == 12):\n",
    "            result.append(31)\n",
    "        elif((month == 2) and ((year%400==0) or (year%4==0 and year%100!=0))):\t\n",
    "            result.append(29)\n",
    "        elif(month == 2):\n",
    "            result.append(28)\n",
    "        else:\n",
    "            result.append(30)\n",
    "    return result"
   ]
  },
  {
   "cell_type": "code",
   "execution_count": 46,
   "metadata": {},
   "outputs": [],
   "source": [
    "NO_OF_DAYS_MONTH = get_num_days_month(2020)"
   ]
  },
  {
   "cell_type": "code",
   "execution_count": 47,
   "metadata": {},
   "outputs": [
    {
     "data": {
      "text/plain": [
       "[31, 29, 31, 30, 31, 30, 31, 31, 30, 31, 30, 31]"
      ]
     },
     "execution_count": 47,
     "metadata": {},
     "output_type": "execute_result"
    }
   ],
   "source": [
    "NO_OF_DAYS_MONTH"
   ]
  },
  {
   "cell_type": "markdown",
   "metadata": {},
   "source": [
    "# Dataframe to capture the data"
   ]
  },
  {
   "cell_type": "code",
   "execution_count": 61,
   "metadata": {},
   "outputs": [],
   "source": [
    "df = pd.DataFrame(columns = {'Date', 'News'})"
   ]
  },
  {
   "cell_type": "code",
   "execution_count": 62,
   "metadata": {},
   "outputs": [
    {
     "name": "stderr",
     "output_type": "stream",
     "text": [
      "\r",
      "  0%|          | 0/12 [00:00<?, ?it/s]"
     ]
    },
    {
     "name": "stdout",
     "output_type": "stream",
     "text": [
      "1 43831\n",
      "2 43832\n",
      "3 43833\n",
      "4 43834\n",
      "5 43835\n",
      "6 43836\n",
      "7 43837\n",
      "8 43838\n",
      "9 43839\n",
      "10 43840\n",
      "11 43841\n",
      "12 43842\n",
      "13 43843\n",
      "14 43844\n",
      "15 43845\n",
      "16 43846\n",
      "17 43847\n",
      "18 43848\n",
      "19 43849\n",
      "20 43850\n",
      "21 43851\n",
      "22 43852\n",
      "23 43853\n",
      "24 43854\n",
      "25 43855\n",
      "26 43856\n",
      "27 43857\n",
      "28 43858\n",
      "29 43859\n",
      "30 43860\n",
      "31 43861\n"
     ]
    },
    {
     "name": "stderr",
     "output_type": "stream",
     "text": [
      "\r",
      "  8%|▊         | 1/12 [00:50<09:10, 50.06s/it]"
     ]
    },
    {
     "name": "stdout",
     "output_type": "stream",
     "text": [
      "1 43862\n",
      "2 43863\n",
      "3 43864\n",
      "4 43865\n",
      "5 43866\n",
      "6 43867\n",
      "7 43868\n",
      "8 43869\n",
      "9 43870\n",
      "10 43871\n",
      "11 43872\n",
      "12 43873\n",
      "13 43874\n",
      "14 43875\n",
      "15 43876\n",
      "16 43877\n",
      "17 43878\n",
      "18 43879\n",
      "19 43880\n",
      "20 43881\n",
      "21 43882\n",
      "22 43883\n",
      "23 43884\n",
      "24 43885\n",
      "25 43886\n",
      "26 43887\n",
      "27 43888\n",
      "28 43889\n",
      "29 43890\n"
     ]
    },
    {
     "name": "stderr",
     "output_type": "stream",
     "text": [
      "\r",
      " 17%|█▋        | 2/12 [01:26<07:40, 46.09s/it]"
     ]
    },
    {
     "name": "stdout",
     "output_type": "stream",
     "text": [
      "1 43891\n",
      "2 43892\n",
      "3 43893\n",
      "4 43894\n",
      "5 43895\n",
      "6 43896\n",
      "7 43897\n",
      "8 43898\n",
      "9 43899\n",
      "10 43900\n",
      "11 43901\n",
      "12 43902\n",
      "13 43903\n",
      "14 43904\n",
      "15 43905\n",
      "16 43906\n",
      "17 43907\n",
      "18 43908\n",
      "19 43909\n",
      "20 43910\n",
      "21 43911\n",
      "22 43912\n",
      "23 43913\n",
      "24 43914\n",
      "25 43915\n",
      "26 43916\n",
      "27 43917\n",
      "28 43918\n",
      "29 43919\n",
      "30 43920\n",
      "31 43921\n"
     ]
    },
    {
     "name": "stderr",
     "output_type": "stream",
     "text": [
      "\r",
      " 25%|██▌       | 3/12 [02:02<06:25, 42.84s/it]"
     ]
    },
    {
     "name": "stdout",
     "output_type": "stream",
     "text": [
      "1 43922\n",
      "2 43923\n",
      "3 43924\n",
      "4 43925\n",
      "5 43926\n",
      "6 43927\n",
      "7 43928\n",
      "8 43929\n",
      "9 43930\n",
      "10 43931\n",
      "11 43932\n",
      "12 43933\n",
      "13 43934\n",
      "14 43935\n",
      "15 43936\n",
      "16 43937\n",
      "17 43938\n",
      "18 43939\n",
      "19 43940\n",
      "20 43941\n",
      "21 43942\n",
      "22 43943\n",
      "23 43944\n",
      "24 43945\n",
      "25 43946\n",
      "26 43947\n",
      "27 43948\n",
      "28 43949\n",
      "29 43950\n",
      "30 43951\n"
     ]
    },
    {
     "name": "stderr",
     "output_type": "stream",
     "text": [
      "\r",
      " 33%|███▎      | 4/12 [02:41<05:33, 41.69s/it]"
     ]
    },
    {
     "name": "stdout",
     "output_type": "stream",
     "text": [
      "1 43952\n",
      "2 43953\n",
      "3 43954\n",
      "4 43955\n",
      "5 43956\n",
      "6 43957\n",
      "7 43958\n",
      "8 43959\n",
      "9 43960\n",
      "10 43961\n",
      "11 43962\n",
      "12 43963\n",
      "13 43964\n",
      "14 43965\n",
      "15 43966\n",
      "16 43967\n",
      "17 43968\n",
      "18 43969\n",
      "19 43970\n",
      "20 43971\n",
      "21 43972\n",
      "22 43973\n",
      "23 43974\n",
      "24 43975\n",
      "25 43976\n",
      "26 43977\n",
      "27 43978\n",
      "28 43979\n",
      "29 43980\n",
      "30 43981\n",
      "31 43982\n"
     ]
    },
    {
     "name": "stderr",
     "output_type": "stream",
     "text": [
      "\r",
      " 42%|████▏     | 5/12 [03:03<04:10, 35.74s/it]"
     ]
    },
    {
     "name": "stdout",
     "output_type": "stream",
     "text": [
      "1 43983\n",
      "2 43984\n",
      "3 43985\n",
      "4 43986\n",
      "5 43987\n",
      "6 43988\n",
      "7 43989\n",
      "8 43990\n",
      "9 43991\n",
      "10 43992\n",
      "11 43993\n",
      "12 43994\n",
      "13 43995\n",
      "14 43996\n",
      "15 43997\n",
      "16 43998\n",
      "17 43999\n",
      "18 44000\n",
      "19 44001\n",
      "20 44002\n",
      "21 44003\n",
      "22 44004\n",
      "23 44005\n",
      "24 44006\n",
      "25 44007\n",
      "26 44008\n",
      "27 44009\n",
      "28 44010\n",
      "29 44011\n",
      "30 44012\n"
     ]
    },
    {
     "name": "stderr",
     "output_type": "stream",
     "text": [
      "\r",
      " 50%|█████     | 6/12 [03:27<03:14, 32.37s/it]"
     ]
    },
    {
     "name": "stdout",
     "output_type": "stream",
     "text": [
      "1 44013\n",
      "2 44014\n",
      "3 44015\n",
      "4 44016\n",
      "5 44017\n",
      "6 44018\n",
      "7 44019\n",
      "8 44020\n",
      "9 44021\n",
      "10 44022\n",
      "11 44023\n",
      "12 44024\n",
      "13 44025\n",
      "14 44026\n",
      "15 44027\n",
      "16 44028\n",
      "17 44029\n",
      "18 44030\n",
      "19 44031\n",
      "20 44032\n",
      "21 44033\n",
      "22 44034\n",
      "23 44035\n",
      "24 44036\n",
      "25 44037\n",
      "26 44038\n",
      "27 44039\n",
      "28 44040\n",
      "29 44041\n",
      "30 44042\n",
      "31 44043\n"
     ]
    },
    {
     "name": "stderr",
     "output_type": "stream",
     "text": [
      "\r",
      " 58%|█████▊    | 7/12 [03:48<02:25, 29.00s/it]"
     ]
    },
    {
     "name": "stdout",
     "output_type": "stream",
     "text": [
      "1 44044\n",
      "2 44045\n",
      "3 44046\n",
      "4 44047\n",
      "5 44048\n",
      "6 44049\n",
      "7 44050\n",
      "8 44051\n",
      "9 44052\n",
      "10 44053\n",
      "11 44054\n",
      "12 44055\n",
      "13 44056\n",
      "14 44057\n",
      "15 44058\n",
      "16 44059\n",
      "17 44060\n",
      "18 44061\n",
      "19 44062\n",
      "20 44063\n",
      "21 44064\n",
      "22 44065\n",
      "23 44066\n",
      "24 44067\n",
      "25 44068\n",
      "26 44069\n",
      "27 44070\n",
      "28 44071\n",
      "29 44072\n",
      "30 44073\n",
      "31 44074\n"
     ]
    },
    {
     "name": "stderr",
     "output_type": "stream",
     "text": [
      "\r",
      " 67%|██████▋   | 8/12 [04:11<01:48, 27.18s/it]"
     ]
    },
    {
     "name": "stdout",
     "output_type": "stream",
     "text": [
      "1 44075\n",
      "2 44076\n",
      "3 44077\n",
      "4 44078\n",
      "5 44079\n",
      "6 44080\n",
      "7 44081\n",
      "8 44082\n",
      "9 44083\n",
      "10 44084\n",
      "11 44085\n",
      "12 44086\n",
      "13 44087\n",
      "14 44088\n",
      "15 44089\n",
      "16 44090\n",
      "17 44091\n",
      "18 44092\n",
      "19 44093\n",
      "20 44094\n",
      "21 44095\n",
      "22 44096\n",
      "23 44097\n",
      "24 44098\n",
      "25 44099\n",
      "26 44100\n",
      "27 44101\n",
      "28 44102\n",
      "29 44103\n",
      "30 44104\n"
     ]
    },
    {
     "name": "stderr",
     "output_type": "stream",
     "text": [
      "\r",
      " 75%|███████▌  | 9/12 [04:35<01:18, 26.28s/it]"
     ]
    },
    {
     "name": "stdout",
     "output_type": "stream",
     "text": [
      "1 44105\n",
      "2 44106\n",
      "3 44107\n",
      "4 44108\n",
      "5 44109\n",
      "6 44110\n",
      "7 44111\n",
      "8 44112\n",
      "9 44113\n",
      "10 44114\n",
      "11 44115\n",
      "12 44116\n",
      "13 44117\n",
      "14 44118\n",
      "15 44119\n",
      "16 44120\n",
      "17 44121\n",
      "18 44122\n",
      "19 44123\n",
      "20 44124\n",
      "21 44125\n",
      "22 44126\n",
      "23 44127\n",
      "24 44128\n",
      "25 44129\n",
      "26 44130\n",
      "27 44131\n",
      "28 44132\n",
      "29 44133\n",
      "30 44134\n",
      "31 44135\n"
     ]
    },
    {
     "name": "stderr",
     "output_type": "stream",
     "text": [
      "\r",
      " 83%|████████▎ | 10/12 [04:57<00:50, 25.04s/it]"
     ]
    },
    {
     "name": "stdout",
     "output_type": "stream",
     "text": [
      "1 44136\n",
      "2 44137\n",
      "3 44138\n",
      "4 44139\n",
      "5 44140\n",
      "6 44141\n",
      "7 44142\n",
      "8 44143\n",
      "9 44144\n",
      "10 44145\n",
      "11 44146\n",
      "12 44147\n",
      "13 44148\n",
      "14 44149\n",
      "15 44150\n",
      "16 44151\n",
      "17 44152\n",
      "18 44153\n",
      "19 44154\n",
      "20 44155\n",
      "21 44156\n",
      "22 44157\n",
      "23 44158\n",
      "24 44159\n",
      "25 44160\n",
      "26 44161\n",
      "27 44162\n",
      "28 44163\n",
      "29 44164\n",
      "30 44165\n"
     ]
    },
    {
     "name": "stderr",
     "output_type": "stream",
     "text": [
      "\r",
      " 92%|█████████▏| 11/12 [12:02<02:25, 145.02s/it]"
     ]
    },
    {
     "name": "stdout",
     "output_type": "stream",
     "text": [
      "1 44166\n",
      "2 44167\n",
      "3 44168\n",
      "4 44169\n",
      "5 44170\n",
      "6 44171\n",
      "7 44172\n",
      "8 44173\n",
      "9 44174\n",
      "10 44175\n",
      "11 44176\n",
      "12 44177\n",
      "13 44178\n",
      "14 44179\n",
      "15 44180\n",
      "16 44181\n",
      "17 44182\n",
      "18 44183\n",
      "19 44184\n",
      "20 44185\n",
      "21 44186\n",
      "22 44187\n",
      "23 44188\n",
      "24 44189\n",
      "25 44190\n",
      "26 44191\n",
      "27 44192\n",
      "28 44193\n",
      "29 44194\n",
      "30 44195\n",
      "31 44196\n"
     ]
    },
    {
     "name": "stderr",
     "output_type": "stream",
     "text": [
      "100%|██████████| 12/12 [21:00<00:00, 105.08s/it]\n"
     ]
    }
   ],
   "source": [
    "START_TIME = 43830\n",
    "scrap_TimesOfIndia(START_TIME, NO_OF_DAYS_MONTH)"
   ]
  },
  {
   "cell_type": "code",
   "execution_count": 63,
   "metadata": {},
   "outputs": [
    {
     "data": {
      "text/plain": [
       "(366, 2)"
      ]
     },
     "execution_count": 63,
     "metadata": {},
     "output_type": "execute_result"
    }
   ],
   "source": [
    "df.shape"
   ]
  },
  {
   "cell_type": "markdown",
   "metadata": {},
   "source": [
    "# Saving the data in CSV file "
   ]
  },
  {
   "cell_type": "code",
   "execution_count": 46,
   "metadata": {},
   "outputs": [],
   "source": [
    "df.to_csv('news_2020.csv', index=False)"
   ]
  },
  {
   "cell_type": "code",
   "execution_count": 47,
   "metadata": {},
   "outputs": [],
   "source": [
    "df2 = pd.read_csv('news_2020.csv')"
   ]
  },
  {
   "cell_type": "code",
   "execution_count": 48,
   "metadata": {},
   "outputs": [
    {
     "name": "stdout",
     "output_type": "stream",
     "text": [
      "<class 'pandas.core.frame.DataFrame'>\n",
      "RangeIndex: 366 entries, 0 to 365\n",
      "Data columns (total 2 columns):\n",
      " #   Column  Non-Null Count  Dtype \n",
      "---  ------  --------------  ----- \n",
      " 0   News    366 non-null    object\n",
      " 1   Date    366 non-null    object\n",
      "dtypes: object(2)\n",
      "memory usage: 5.8+ KB\n"
     ]
    }
   ],
   "source": [
    "df2.info()"
   ]
  }
 ],
 "metadata": {
  "kernelspec": {
   "display_name": "Python 3",
   "language": "python",
   "name": "python3"
  }
 },
 "nbformat": 4,
 "nbformat_minor": 2
}
